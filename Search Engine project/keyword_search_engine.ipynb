{
 "cells": [
  {
   "cell_type": "code",
   "execution_count": 10,
   "id": "e7f53cd8-7267-4778-b21c-ea00f6660503",
   "metadata": {},
   "outputs": [],
   "source": [
    "import pandas as pd \n",
    "import sklearn\n",
    "from sklearn.feature_extraction.text import TfidfVectorizer\n",
    "from sklearn.metrics.pairwise import cosine_similarity"
   ]
  },
  {
   "cell_type": "code",
   "execution_count": 11,
   "id": "008f5477-41f4-4b4d-8cee-a98558142841",
   "metadata": {},
   "outputs": [],
   "source": [
    "df=pd.read_csv(\"chunked_data.csv\")"
   ]
  },
  {
   "cell_type": "code",
   "execution_count": 12,
   "id": "0ee7eff0-a1c9-4183-81e4-9bafb202be7d",
   "metadata": {},
   "outputs": [
    {
     "data": {
      "text/html": [
       "<div>\n",
       "<style scoped>\n",
       "    .dataframe tbody tr th:only-of-type {\n",
       "        vertical-align: middle;\n",
       "    }\n",
       "\n",
       "    .dataframe tbody tr th {\n",
       "        vertical-align: top;\n",
       "    }\n",
       "\n",
       "    .dataframe thead th {\n",
       "        text-align: right;\n",
       "    }\n",
       "</style>\n",
       "<table border=\"1\" class=\"dataframe\">\n",
       "  <thead>\n",
       "    <tr style=\"text-align: right;\">\n",
       "      <th></th>\n",
       "      <th>name</th>\n",
       "      <th>cleaned_content</th>\n",
       "      <th>chunks</th>\n",
       "    </tr>\n",
       "  </thead>\n",
       "  <tbody>\n",
       "    <tr>\n",
       "      <th>0</th>\n",
       "      <td>maybe.this.time.(2014).eng.1cd</td>\n",
       "      <td>ï watch video online open subtitle free browse...</td>\n",
       "      <td>['ï watch video online open subtitle free brow...</td>\n",
       "    </tr>\n",
       "    <tr>\n",
       "      <th>1</th>\n",
       "      <td>down.the.shore.s01.e10.and.justice.for.all.(19...</td>\n",
       "      <td>oh know getting late wan na go home hurry baby...</td>\n",
       "      <td>['oh know getting late wan na go home hurry ba...</td>\n",
       "    </tr>\n",
       "    <tr>\n",
       "      <th>2</th>\n",
       "      <td>uncontrollably.fond.s01.e07.heartache.(2016).e...</td>\n",
       "      <td>timing subtitle uncontrollable lovebird team v...</td>\n",
       "      <td>['timing subtitle uncontrollable lovebird team...</td>\n",
       "    </tr>\n",
       "    <tr>\n",
       "      <th>3</th>\n",
       "      <td>screen.two.s13.e04.the.precious.blood.(1996).e...</td>\n",
       "      <td>ethereal music api opensubtitles org deprecate...</td>\n",
       "      <td>['ethereal music api opensubtitles org depreca...</td>\n",
       "    </tr>\n",
       "    <tr>\n",
       "      <th>4</th>\n",
       "      <td>battlebots.(2015).eng.1cd</td>\n",
       "      <td>ï chris oh minibots yelling oh leave little bo...</td>\n",
       "      <td>['ï chris oh minibots yelling oh leave little ...</td>\n",
       "    </tr>\n",
       "    <tr>\n",
       "      <th>...</th>\n",
       "      <td>...</td>\n",
       "      <td>...</td>\n",
       "      <td>...</td>\n",
       "    </tr>\n",
       "    <tr>\n",
       "      <th>24744</th>\n",
       "      <td>kevin.can.wait.s01.e13.ring.worm.(2017).eng.1cd</td>\n",
       "      <td>ï script info title default file scripttype v ...</td>\n",
       "      <td>['ï script info title default file scripttype ...</td>\n",
       "    </tr>\n",
       "    <tr>\n",
       "      <th>24745</th>\n",
       "      <td>bia.s01.e29.episode.1.29.(2019).eng.1cd</td>\n",
       "      <td>ï come know tape helena girl called cause made...</td>\n",
       "      <td>['ï come know tape helena girl called cause ma...</td>\n",
       "    </tr>\n",
       "    <tr>\n",
       "      <th>24746</th>\n",
       "      <td>heroes.s02.e11.chapter.eleven.powerless.(2007)...</td>\n",
       "      <td>ï previously hero tell find virus stop primate...</td>\n",
       "      <td>['ï previously hero tell find virus stop prima...</td>\n",
       "    </tr>\n",
       "    <tr>\n",
       "      <th>24747</th>\n",
       "      <td>hot.in.cleveland.s05.e09.bad.george.clooney.(2...</td>\n",
       "      <td>ï hot cleveland recorded front live studio aud...</td>\n",
       "      <td>['ï hot cleveland recorded front live studio a...</td>\n",
       "    </tr>\n",
       "    <tr>\n",
       "      <th>24748</th>\n",
       "      <td>silk.stalkings.s04.e18.i.know.what.scares.you....</td>\n",
       "      <td>ï api opensubtitles org deprecated please impl...</td>\n",
       "      <td>['ï api opensubtitles org deprecated please im...</td>\n",
       "    </tr>\n",
       "  </tbody>\n",
       "</table>\n",
       "<p>24749 rows × 3 columns</p>\n",
       "</div>"
      ],
      "text/plain": [
       "                                                    name  \\\n",
       "0                         maybe.this.time.(2014).eng.1cd   \n",
       "1      down.the.shore.s01.e10.and.justice.for.all.(19...   \n",
       "2      uncontrollably.fond.s01.e07.heartache.(2016).e...   \n",
       "3      screen.two.s13.e04.the.precious.blood.(1996).e...   \n",
       "4                              battlebots.(2015).eng.1cd   \n",
       "...                                                  ...   \n",
       "24744    kevin.can.wait.s01.e13.ring.worm.(2017).eng.1cd   \n",
       "24745            bia.s01.e29.episode.1.29.(2019).eng.1cd   \n",
       "24746  heroes.s02.e11.chapter.eleven.powerless.(2007)...   \n",
       "24747  hot.in.cleveland.s05.e09.bad.george.clooney.(2...   \n",
       "24748  silk.stalkings.s04.e18.i.know.what.scares.you....   \n",
       "\n",
       "                                         cleaned_content  \\\n",
       "0      ï watch video online open subtitle free browse...   \n",
       "1      oh know getting late wan na go home hurry baby...   \n",
       "2      timing subtitle uncontrollable lovebird team v...   \n",
       "3      ethereal music api opensubtitles org deprecate...   \n",
       "4      ï chris oh minibots yelling oh leave little bo...   \n",
       "...                                                  ...   \n",
       "24744  ï script info title default file scripttype v ...   \n",
       "24745  ï come know tape helena girl called cause made...   \n",
       "24746  ï previously hero tell find virus stop primate...   \n",
       "24747  ï hot cleveland recorded front live studio aud...   \n",
       "24748  ï api opensubtitles org deprecated please impl...   \n",
       "\n",
       "                                                  chunks  \n",
       "0      ['ï watch video online open subtitle free brow...  \n",
       "1      ['oh know getting late wan na go home hurry ba...  \n",
       "2      ['timing subtitle uncontrollable lovebird team...  \n",
       "3      ['ethereal music api opensubtitles org depreca...  \n",
       "4      ['ï chris oh minibots yelling oh leave little ...  \n",
       "...                                                  ...  \n",
       "24744  ['ï script info title default file scripttype ...  \n",
       "24745  ['ï come know tape helena girl called cause ma...  \n",
       "24746  ['ï previously hero tell find virus stop prima...  \n",
       "24747  ['ï hot cleveland recorded front live studio a...  \n",
       "24748  ['ï api opensubtitles org deprecated please im...  \n",
       "\n",
       "[24749 rows x 3 columns]"
      ]
     },
     "execution_count": 12,
     "metadata": {},
     "output_type": "execute_result"
    }
   ],
   "source": [
    "df"
   ]
  },
  {
   "cell_type": "code",
   "execution_count": 13,
   "id": "61c26376-bc4b-4341-9b90-95d03f49acf0",
   "metadata": {},
   "outputs": [],
   "source": [
    "def tfidf_vector(column):\n",
    "    tfidf = TfidfVectorizer()\n",
    "    matrix = tfidf.fit_transform(column)\n",
    "    return tfidf, matrix"
   ]
  },
  {
   "cell_type": "code",
   "execution_count": 14,
   "id": "b4e45efb-4c76-4860-9ddf-dab3deb87a00",
   "metadata": {},
   "outputs": [],
   "source": [
    "tfidf, matrix = tfidf_vector(df['chunks'])"
   ]
  },
  {
   "cell_type": "code",
   "execution_count": 15,
   "id": "9059e2c7-63dc-4b7c-a9fa-3e3010089d16",
   "metadata": {},
   "outputs": [],
   "source": [
    "def similar_subtitles(query, df, tfidf, matrix):\n",
    "    query_vector = tfidf.transform([query])\n",
    "    cosine_similar = cosine_similarity(query_vector, matrix).flatten()\n",
    "    similar_subtitles_indices = cosine_similar.argsort()[::-1]\n",
    "    similar_subtitles = df.iloc[similar_subtitles_indices]\n",
    "    similar_subtitles['similarity'] = cosine_similar[similar_subtitles_indices]\n",
    "    return similar_subtitles"
   ]
  },
  {
   "cell_type": "code",
   "execution_count": 16,
   "id": "0568478d-60cc-4257-8915-01769b522704",
   "metadata": {},
   "outputs": [
    {
     "name": "stdin",
     "output_type": "stream",
     "text": [
      "Enter keyword to search:  happy\n"
     ]
    },
    {
     "name": "stderr",
     "output_type": "stream",
     "text": [
      "C:\\Users\\HP\\AppData\\Local\\Temp\\ipykernel_5796\\2763119790.py:6: SettingWithCopyWarning: \n",
      "A value is trying to be set on a copy of a slice from a DataFrame.\n",
      "Try using .loc[row_indexer,col_indexer] = value instead\n",
      "\n",
      "See the caveats in the documentation: https://pandas.pydata.org/pandas-docs/stable/user_guide/indexing.html#returning-a-view-versus-a-copy\n",
      "  similar_subtitles['similarity'] = cosine_similar[similar_subtitles_indices]\n"
     ]
    },
    {
     "name": "stdin",
     "output_type": "stream",
     "text": [
      "Enter the number of search results you want:  10\n"
     ]
    },
    {
     "name": "stdout",
     "output_type": "stream",
     "text": [
      "Top 10 search results for keyword 'happy':\n",
      "       similarity                                               name  \\\n",
      "9521     0.247316  random.acts.of.flyness.s02.e03.episode.2.3.(20...   \n",
      "23815    0.205248  csi.crime.scene.investigation.s07.e21.ending.h...   \n",
      "3718     0.136840  the.adventures.of.pete.pete.s02.e12.yellow.fev...   \n",
      "167      0.134718  workaholics.s06.e05.gone.catfishing.(2016).eng...   \n",
      "4000     0.129555  random.acts.of.flyness.s02.e03.episode.2.3.(20...   \n",
      "6761     0.126839  the.kings.avatar.s02.e02.happy.new.year.(2020)...   \n",
      "15102    0.126282                       one.more.time.(2023).eng.1cd   \n",
      "11391    0.124028                               nackt.(2002).eng.1cd   \n",
      "21062    0.115298          spaced.s02.e06.dissolution.(2001).eng.1cd   \n",
      "1717     0.108865      meet.cute.s01.e01.meet.the.boy.(2022).eng.1cd   \n",
      "\n",
      "                                         cleaned_content  \n",
      "9521   ï watch video online open subtitle free browse...  \n",
      "23815  ï watch video online open subtitle free browse...  \n",
      "3718   pig snorting big pete ever since school field ...  \n",
      "167    ï look like rifle uh yeah kind thanks god seem...  \n",
      "4000   ï sitar music playing xavier well thinkin mini...  \n",
      "6761   watch video online open subtitle free browser ...  \n",
      "15102  ï advertise product brand contact www opensubt...  \n",
      "11391  ï use free code joinnow â www playships eu nak...  \n",
      "21062  ï â ª one two middlesboogie â ª dance music dr...  \n",
      "1717   ï api opensubtitles org deprecated please impl...  \n"
     ]
    }
   ],
   "source": [
    "\n",
    "keyword = input(\"Enter keyword to search: \")\n",
    "search_results = similar_subtitles(keyword, df, tfidf, matrix)\n",
    "\n",
    "top_n = int(input('Enter the number of search results you want: '))\n",
    "\n",
    "print(f\"Top {top_n} search results for keyword '{keyword}':\")\n",
    "print(search_results[['similarity',\"name\",\"cleaned_content\"]].head(top_n))"
   ]
  },
  {
   "cell_type": "code",
   "execution_count": null,
   "id": "ed0acb96-0d38-4504-ab58-de88cdb21241",
   "metadata": {},
   "outputs": [],
   "source": []
  }
 ],
 "metadata": {
  "kernelspec": {
   "display_name": "Python 3 (ipykernel)",
   "language": "python",
   "name": "python3"
  },
  "language_info": {
   "codemirror_mode": {
    "name": "ipython",
    "version": 3
   },
   "file_extension": ".py",
   "mimetype": "text/x-python",
   "name": "python",
   "nbconvert_exporter": "python",
   "pygments_lexer": "ipython3",
   "version": "3.11.7"
  }
 },
 "nbformat": 4,
 "nbformat_minor": 5
}
